{
 "cells": [
  {
   "cell_type": "code",
   "execution_count": 46,
   "metadata": {},
   "outputs": [],
   "source": [
    "import pandas as pd\n",
    "import numpy as np  \n",
    "import matplotlib.pyplot as plt\n",
    "from datetime import datetime, timedelta\n",
    "import yfinance as yf"
   ]
  },
  {
   "cell_type": "code",
   "execution_count": 47,
   "metadata": {},
   "outputs": [
    {
     "name": "stdout",
     "output_type": "stream",
     "text": [
      "Negative    float64\n",
      "Neutral     float64\n",
      "Positive    float64\n",
      "dtype: object\n"
     ]
    }
   ],
   "source": [
    "tweets_df = pd.read_csv('Labelled_True.csv',index_col='Date').drop(columns={'Unnamed: 0'})\n",
    "print(tweets_df.dtypes)\n",
    "tweets_df.index = pd.to_datetime(tweets_df.index)"
   ]
  },
  {
   "cell_type": "code",
   "execution_count": 48,
   "metadata": {},
   "outputs": [],
   "source": [
    "start_date = datetime(2023,1,1)\n",
    "end_date = datetime(2023,12,31)"
   ]
  },
  {
   "cell_type": "code",
   "execution_count": 49,
   "metadata": {},
   "outputs": [
    {
     "name": "stdout",
     "output_type": "stream",
     "text": [
      "[*********************100%%**********************]  1 of 1 completed\n"
     ]
    }
   ],
   "source": [
    "prices = yf.download('HDFCBANK.NS',start = start_date,end = end_date).drop(columns = {'Adj Close'})\n"
   ]
  },
  {
   "cell_type": "code",
   "execution_count": 50,
   "metadata": {},
   "outputs": [
    {
     "data": {
      "text/html": [
       "<div>\n",
       "<style scoped>\n",
       "    .dataframe tbody tr th:only-of-type {\n",
       "        vertical-align: middle;\n",
       "    }\n",
       "\n",
       "    .dataframe tbody tr th {\n",
       "        vertical-align: top;\n",
       "    }\n",
       "\n",
       "    .dataframe thead th {\n",
       "        text-align: right;\n",
       "    }\n",
       "</style>\n",
       "<table border=\"1\" class=\"dataframe\">\n",
       "  <thead>\n",
       "    <tr style=\"text-align: right;\">\n",
       "      <th></th>\n",
       "      <th>Open</th>\n",
       "      <th>High</th>\n",
       "      <th>Low</th>\n",
       "      <th>Close</th>\n",
       "      <th>Volume</th>\n",
       "    </tr>\n",
       "    <tr>\n",
       "      <th>Date</th>\n",
       "      <th></th>\n",
       "      <th></th>\n",
       "      <th></th>\n",
       "      <th></th>\n",
       "      <th></th>\n",
       "    </tr>\n",
       "  </thead>\n",
       "  <tbody>\n",
       "    <tr>\n",
       "      <th>2023-01-02</th>\n",
       "      <td>1627.000000</td>\n",
       "      <td>1639.750000</td>\n",
       "      <td>1618.550049</td>\n",
       "      <td>1628.699951</td>\n",
       "      <td>2190689</td>\n",
       "    </tr>\n",
       "    <tr>\n",
       "      <th>2023-01-03</th>\n",
       "      <td>1622.199951</td>\n",
       "      <td>1643.000000</td>\n",
       "      <td>1622.199951</td>\n",
       "      <td>1639.349976</td>\n",
       "      <td>4189015</td>\n",
       "    </tr>\n",
       "    <tr>\n",
       "      <th>2023-01-04</th>\n",
       "      <td>1635.000000</td>\n",
       "      <td>1645.750000</td>\n",
       "      <td>1607.000000</td>\n",
       "      <td>1610.050049</td>\n",
       "      <td>5175800</td>\n",
       "    </tr>\n",
       "    <tr>\n",
       "      <th>2023-01-05</th>\n",
       "      <td>1615.000000</td>\n",
       "      <td>1618.050049</td>\n",
       "      <td>1589.400024</td>\n",
       "      <td>1599.699951</td>\n",
       "      <td>5470718</td>\n",
       "    </tr>\n",
       "    <tr>\n",
       "      <th>2023-01-06</th>\n",
       "      <td>1602.000000</td>\n",
       "      <td>1609.099976</td>\n",
       "      <td>1578.199951</td>\n",
       "      <td>1594.400024</td>\n",
       "      <td>4546231</td>\n",
       "    </tr>\n",
       "  </tbody>\n",
       "</table>\n",
       "</div>"
      ],
      "text/plain": [
       "                   Open         High          Low        Close   Volume\n",
       "Date                                                                   \n",
       "2023-01-02  1627.000000  1639.750000  1618.550049  1628.699951  2190689\n",
       "2023-01-03  1622.199951  1643.000000  1622.199951  1639.349976  4189015\n",
       "2023-01-04  1635.000000  1645.750000  1607.000000  1610.050049  5175800\n",
       "2023-01-05  1615.000000  1618.050049  1589.400024  1599.699951  5470718\n",
       "2023-01-06  1602.000000  1609.099976  1578.199951  1594.400024  4546231"
      ]
     },
     "execution_count": 50,
     "metadata": {},
     "output_type": "execute_result"
    }
   ],
   "source": [
    "prices.head()"
   ]
  },
  {
   "cell_type": "code",
   "execution_count": 51,
   "metadata": {},
   "outputs": [
    {
     "name": "stdout",
     "output_type": "stream",
     "text": [
      "(245, 5)\n",
      "(365, 3)\n"
     ]
    }
   ],
   "source": [
    "print(prices.shape)\n",
    "print(tweets_df.shape)"
   ]
  },
  {
   "cell_type": "code",
   "execution_count": 52,
   "metadata": {},
   "outputs": [
    {
     "name": "stderr",
     "output_type": "stream",
     "text": [
      "C:\\Users\\sai18\\AppData\\Local\\Temp\\ipykernel_12296\\1015478329.py:8: FutureWarning: DataFrame.fillna with 'method' is deprecated and will raise in a future version. Use obj.ffill() or obj.bfill() instead.\n",
      "  prices = prices.reindex(new_index).fillna(method='ffill')\n"
     ]
    }
   ],
   "source": [
    "prices = prices.sort_index()\n",
    "\n",
    "start_date = datetime(2023,1,1) \n",
    "final_date = datetime(2023,12,31)\n",
    "\n",
    "new_index = pd.date_range(start=start_date,end=final_date)\n",
    "\n",
    "prices = prices.reindex(new_index).fillna(method='ffill')"
   ]
  },
  {
   "cell_type": "code",
   "execution_count": 53,
   "metadata": {},
   "outputs": [],
   "source": [
    "prices['next_close'] = prices['Close'].shift(-1)"
   ]
  },
  {
   "cell_type": "code",
   "execution_count": 54,
   "metadata": {},
   "outputs": [],
   "source": [
    "prices.drop([start_date,end_date],inplace = True)"
   ]
  },
  {
   "cell_type": "code",
   "execution_count": 55,
   "metadata": {},
   "outputs": [
    {
     "data": {
      "text/html": [
       "<div>\n",
       "<style scoped>\n",
       "    .dataframe tbody tr th:only-of-type {\n",
       "        vertical-align: middle;\n",
       "    }\n",
       "\n",
       "    .dataframe tbody tr th {\n",
       "        vertical-align: top;\n",
       "    }\n",
       "\n",
       "    .dataframe thead th {\n",
       "        text-align: right;\n",
       "    }\n",
       "</style>\n",
       "<table border=\"1\" class=\"dataframe\">\n",
       "  <thead>\n",
       "    <tr style=\"text-align: right;\">\n",
       "      <th></th>\n",
       "      <th>Open</th>\n",
       "      <th>High</th>\n",
       "      <th>Low</th>\n",
       "      <th>Close</th>\n",
       "      <th>Volume</th>\n",
       "      <th>next_close</th>\n",
       "    </tr>\n",
       "  </thead>\n",
       "  <tbody>\n",
       "    <tr>\n",
       "      <th>2023-01-02</th>\n",
       "      <td>1627.000000</td>\n",
       "      <td>1639.750000</td>\n",
       "      <td>1618.550049</td>\n",
       "      <td>1628.699951</td>\n",
       "      <td>2190689.0</td>\n",
       "      <td>1639.349976</td>\n",
       "    </tr>\n",
       "    <tr>\n",
       "      <th>2023-01-03</th>\n",
       "      <td>1622.199951</td>\n",
       "      <td>1643.000000</td>\n",
       "      <td>1622.199951</td>\n",
       "      <td>1639.349976</td>\n",
       "      <td>4189015.0</td>\n",
       "      <td>1610.050049</td>\n",
       "    </tr>\n",
       "    <tr>\n",
       "      <th>2023-01-04</th>\n",
       "      <td>1635.000000</td>\n",
       "      <td>1645.750000</td>\n",
       "      <td>1607.000000</td>\n",
       "      <td>1610.050049</td>\n",
       "      <td>5175800.0</td>\n",
       "      <td>1599.699951</td>\n",
       "    </tr>\n",
       "    <tr>\n",
       "      <th>2023-01-05</th>\n",
       "      <td>1615.000000</td>\n",
       "      <td>1618.050049</td>\n",
       "      <td>1589.400024</td>\n",
       "      <td>1599.699951</td>\n",
       "      <td>5470718.0</td>\n",
       "      <td>1594.400024</td>\n",
       "    </tr>\n",
       "    <tr>\n",
       "      <th>2023-01-06</th>\n",
       "      <td>1602.000000</td>\n",
       "      <td>1609.099976</td>\n",
       "      <td>1578.199951</td>\n",
       "      <td>1594.400024</td>\n",
       "      <td>4546231.0</td>\n",
       "      <td>1594.400024</td>\n",
       "    </tr>\n",
       "    <tr>\n",
       "      <th>...</th>\n",
       "      <td>...</td>\n",
       "      <td>...</td>\n",
       "      <td>...</td>\n",
       "      <td>...</td>\n",
       "      <td>...</td>\n",
       "      <td>...</td>\n",
       "    </tr>\n",
       "    <tr>\n",
       "      <th>2023-12-26</th>\n",
       "      <td>1673.250000</td>\n",
       "      <td>1685.949951</td>\n",
       "      <td>1668.550049</td>\n",
       "      <td>1682.449951</td>\n",
       "      <td>9022928.0</td>\n",
       "      <td>1703.300049</td>\n",
       "    </tr>\n",
       "    <tr>\n",
       "      <th>2023-12-27</th>\n",
       "      <td>1681.500000</td>\n",
       "      <td>1706.500000</td>\n",
       "      <td>1678.599976</td>\n",
       "      <td>1703.300049</td>\n",
       "      <td>13504539.0</td>\n",
       "      <td>1705.250000</td>\n",
       "    </tr>\n",
       "    <tr>\n",
       "      <th>2023-12-28</th>\n",
       "      <td>1709.300049</td>\n",
       "      <td>1721.400024</td>\n",
       "      <td>1702.000000</td>\n",
       "      <td>1705.250000</td>\n",
       "      <td>22038235.0</td>\n",
       "      <td>1709.250000</td>\n",
       "    </tr>\n",
       "    <tr>\n",
       "      <th>2023-12-29</th>\n",
       "      <td>1697.000000</td>\n",
       "      <td>1714.900024</td>\n",
       "      <td>1696.000000</td>\n",
       "      <td>1709.250000</td>\n",
       "      <td>12505713.0</td>\n",
       "      <td>1709.250000</td>\n",
       "    </tr>\n",
       "    <tr>\n",
       "      <th>2023-12-30</th>\n",
       "      <td>1697.000000</td>\n",
       "      <td>1714.900024</td>\n",
       "      <td>1696.000000</td>\n",
       "      <td>1709.250000</td>\n",
       "      <td>12505713.0</td>\n",
       "      <td>1709.250000</td>\n",
       "    </tr>\n",
       "  </tbody>\n",
       "</table>\n",
       "<p>363 rows × 6 columns</p>\n",
       "</div>"
      ],
      "text/plain": [
       "                   Open         High          Low        Close      Volume  \\\n",
       "2023-01-02  1627.000000  1639.750000  1618.550049  1628.699951   2190689.0   \n",
       "2023-01-03  1622.199951  1643.000000  1622.199951  1639.349976   4189015.0   \n",
       "2023-01-04  1635.000000  1645.750000  1607.000000  1610.050049   5175800.0   \n",
       "2023-01-05  1615.000000  1618.050049  1589.400024  1599.699951   5470718.0   \n",
       "2023-01-06  1602.000000  1609.099976  1578.199951  1594.400024   4546231.0   \n",
       "...                 ...          ...          ...          ...         ...   \n",
       "2023-12-26  1673.250000  1685.949951  1668.550049  1682.449951   9022928.0   \n",
       "2023-12-27  1681.500000  1706.500000  1678.599976  1703.300049  13504539.0   \n",
       "2023-12-28  1709.300049  1721.400024  1702.000000  1705.250000  22038235.0   \n",
       "2023-12-29  1697.000000  1714.900024  1696.000000  1709.250000  12505713.0   \n",
       "2023-12-30  1697.000000  1714.900024  1696.000000  1709.250000  12505713.0   \n",
       "\n",
       "             next_close  \n",
       "2023-01-02  1639.349976  \n",
       "2023-01-03  1610.050049  \n",
       "2023-01-04  1599.699951  \n",
       "2023-01-05  1594.400024  \n",
       "2023-01-06  1594.400024  \n",
       "...                 ...  \n",
       "2023-12-26  1703.300049  \n",
       "2023-12-27  1705.250000  \n",
       "2023-12-28  1709.250000  \n",
       "2023-12-29  1709.250000  \n",
       "2023-12-30  1709.250000  \n",
       "\n",
       "[363 rows x 6 columns]"
      ]
     },
     "execution_count": 55,
     "metadata": {},
     "output_type": "execute_result"
    }
   ],
   "source": [
    "prices"
   ]
  },
  {
   "cell_type": "code",
   "execution_count": 56,
   "metadata": {},
   "outputs": [],
   "source": [
    "tweets_df.drop([start_date,end_date],inplace=True)"
   ]
  },
  {
   "cell_type": "code",
   "execution_count": 57,
   "metadata": {},
   "outputs": [],
   "source": [
    "Newdf = pd.concat([tweets_df,prices],axis = 1)\n"
   ]
  },
  {
   "cell_type": "code",
   "execution_count": 59,
   "metadata": {},
   "outputs": [],
   "source": [
    "Newdf.to_csv('Tweets+prices.csv')"
   ]
  }
 ],
 "metadata": {
  "kernelspec": {
   "display_name": "Python 3",
   "language": "python",
   "name": "python3"
  },
  "language_info": {
   "codemirror_mode": {
    "name": "ipython",
    "version": 3
   },
   "file_extension": ".py",
   "mimetype": "text/x-python",
   "name": "python",
   "nbconvert_exporter": "python",
   "pygments_lexer": "ipython3",
   "version": "3.11.5"
  }
 },
 "nbformat": 4,
 "nbformat_minor": 2
}
