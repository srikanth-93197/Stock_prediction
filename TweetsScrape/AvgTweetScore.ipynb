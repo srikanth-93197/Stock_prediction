{
 "cells": [
  {
   "cell_type": "code",
   "execution_count": 1,
   "metadata": {},
   "outputs": [],
   "source": [
    "import pandas as pd\n",
    "from datetime import datetime,timedelta\n",
    "import numpy as np"
   ]
  },
  {
   "cell_type": "code",
   "execution_count": 2,
   "metadata": {},
   "outputs": [],
   "source": [
    "df = pd.read_csv('Labelled.csv')"
   ]
  },
  {
   "cell_type": "code",
   "execution_count": 3,
   "metadata": {},
   "outputs": [],
   "source": [
    "df = df.drop(columns=['text','likes','Unnamed: 0'])"
   ]
  },
  {
   "cell_type": "code",
   "execution_count": 4,
   "metadata": {},
   "outputs": [
    {
     "data": {
      "text/plain": [
       "user         object\n",
       "Date         object\n",
       "Negative    float64\n",
       "Neutral     float64\n",
       "Positive    float64\n",
       "dtype: object"
      ]
     },
     "execution_count": 4,
     "metadata": {},
     "output_type": "execute_result"
    }
   ],
   "source": [
    "df.dtypes"
   ]
  },
  {
   "cell_type": "code",
   "execution_count": 5,
   "metadata": {},
   "outputs": [
    {
     "data": {
      "text/html": [
       "<div>\n",
       "<style scoped>\n",
       "    .dataframe tbody tr th:only-of-type {\n",
       "        vertical-align: middle;\n",
       "    }\n",
       "\n",
       "    .dataframe tbody tr th {\n",
       "        vertical-align: top;\n",
       "    }\n",
       "\n",
       "    .dataframe thead th {\n",
       "        text-align: right;\n",
       "    }\n",
       "</style>\n",
       "<table border=\"1\" class=\"dataframe\">\n",
       "  <thead>\n",
       "    <tr style=\"text-align: right;\">\n",
       "      <th></th>\n",
       "      <th>user</th>\n",
       "      <th>Date</th>\n",
       "      <th>Negative</th>\n",
       "      <th>Neutral</th>\n",
       "      <th>Positive</th>\n",
       "    </tr>\n",
       "  </thead>\n",
       "  <tbody>\n",
       "    <tr>\n",
       "      <th>0</th>\n",
       "      <td>@Santosh58809614</td>\n",
       "      <td>Jan 1, 2023 · 7:49 PM UTC</td>\n",
       "      <td>0.803856</td>\n",
       "      <td>0.179497</td>\n",
       "      <td>0.016647</td>\n",
       "    </tr>\n",
       "    <tr>\n",
       "      <th>1</th>\n",
       "      <td>@R986P</td>\n",
       "      <td>Jan 1, 2023 · 7:01 PM UTC</td>\n",
       "      <td>0.056528</td>\n",
       "      <td>0.553336</td>\n",
       "      <td>0.390136</td>\n",
       "    </tr>\n",
       "    <tr>\n",
       "      <th>2</th>\n",
       "      <td>@wasir_phukan</td>\n",
       "      <td>Jan 1, 2023 · 5:59 PM UTC</td>\n",
       "      <td>0.132661</td>\n",
       "      <td>0.766757</td>\n",
       "      <td>0.100582</td>\n",
       "    </tr>\n",
       "    <tr>\n",
       "      <th>3</th>\n",
       "      <td>@IamRgvIndia</td>\n",
       "      <td>Jan 1, 2023 · 5:18 PM UTC</td>\n",
       "      <td>0.378204</td>\n",
       "      <td>0.589663</td>\n",
       "      <td>0.032133</td>\n",
       "    </tr>\n",
       "    <tr>\n",
       "      <th>4</th>\n",
       "      <td>@AbhipraGroup</td>\n",
       "      <td>Jan 1, 2023 · 4:24 PM UTC</td>\n",
       "      <td>0.230898</td>\n",
       "      <td>0.711228</td>\n",
       "      <td>0.057874</td>\n",
       "    </tr>\n",
       "  </tbody>\n",
       "</table>\n",
       "</div>"
      ],
      "text/plain": [
       "               user                       Date  Negative   Neutral  Positive\n",
       "0  @Santosh58809614  Jan 1, 2023 · 7:49 PM UTC  0.803856  0.179497  0.016647\n",
       "1            @R986P  Jan 1, 2023 · 7:01 PM UTC  0.056528  0.553336  0.390136\n",
       "2     @wasir_phukan  Jan 1, 2023 · 5:59 PM UTC  0.132661  0.766757  0.100582\n",
       "3      @IamRgvIndia  Jan 1, 2023 · 5:18 PM UTC  0.378204  0.589663  0.032133\n",
       "4     @AbhipraGroup  Jan 1, 2023 · 4:24 PM UTC  0.230898  0.711228  0.057874"
      ]
     },
     "execution_count": 5,
     "metadata": {},
     "output_type": "execute_result"
    }
   ],
   "source": [
    "df.head()"
   ]
  },
  {
   "cell_type": "code",
   "execution_count": 6,
   "metadata": {},
   "outputs": [],
   "source": [
    "def convert_string_to_datetime(date_string):\n",
    "    return datetime.strptime(date_string, \"%b %d, %Y · %I:%M %p %Z\").date()\n",
    "\n",
    "# Apply the function to the 'Date' column of the DataFrame\n",
    "df['Date'] = df['Date'].apply(convert_string_to_datetime)"
   ]
  },
  {
   "cell_type": "code",
   "execution_count": 7,
   "metadata": {},
   "outputs": [
    {
     "data": {
      "text/html": [
       "<div>\n",
       "<style scoped>\n",
       "    .dataframe tbody tr th:only-of-type {\n",
       "        vertical-align: middle;\n",
       "    }\n",
       "\n",
       "    .dataframe tbody tr th {\n",
       "        vertical-align: top;\n",
       "    }\n",
       "\n",
       "    .dataframe thead th {\n",
       "        text-align: right;\n",
       "    }\n",
       "</style>\n",
       "<table border=\"1\" class=\"dataframe\">\n",
       "  <thead>\n",
       "    <tr style=\"text-align: right;\">\n",
       "      <th></th>\n",
       "      <th>user</th>\n",
       "      <th>Date</th>\n",
       "      <th>Negative</th>\n",
       "      <th>Neutral</th>\n",
       "      <th>Positive</th>\n",
       "    </tr>\n",
       "  </thead>\n",
       "  <tbody>\n",
       "    <tr>\n",
       "      <th>0</th>\n",
       "      <td>@Santosh58809614</td>\n",
       "      <td>2023-01-01</td>\n",
       "      <td>0.803856</td>\n",
       "      <td>0.179497</td>\n",
       "      <td>0.016647</td>\n",
       "    </tr>\n",
       "    <tr>\n",
       "      <th>1</th>\n",
       "      <td>@R986P</td>\n",
       "      <td>2023-01-01</td>\n",
       "      <td>0.056528</td>\n",
       "      <td>0.553336</td>\n",
       "      <td>0.390136</td>\n",
       "    </tr>\n",
       "    <tr>\n",
       "      <th>2</th>\n",
       "      <td>@wasir_phukan</td>\n",
       "      <td>2023-01-01</td>\n",
       "      <td>0.132661</td>\n",
       "      <td>0.766757</td>\n",
       "      <td>0.100582</td>\n",
       "    </tr>\n",
       "    <tr>\n",
       "      <th>3</th>\n",
       "      <td>@IamRgvIndia</td>\n",
       "      <td>2023-01-01</td>\n",
       "      <td>0.378204</td>\n",
       "      <td>0.589663</td>\n",
       "      <td>0.032133</td>\n",
       "    </tr>\n",
       "    <tr>\n",
       "      <th>4</th>\n",
       "      <td>@AbhipraGroup</td>\n",
       "      <td>2023-01-01</td>\n",
       "      <td>0.230898</td>\n",
       "      <td>0.711228</td>\n",
       "      <td>0.057874</td>\n",
       "    </tr>\n",
       "  </tbody>\n",
       "</table>\n",
       "</div>"
      ],
      "text/plain": [
       "               user        Date  Negative   Neutral  Positive\n",
       "0  @Santosh58809614  2023-01-01  0.803856  0.179497  0.016647\n",
       "1            @R986P  2023-01-01  0.056528  0.553336  0.390136\n",
       "2     @wasir_phukan  2023-01-01  0.132661  0.766757  0.100582\n",
       "3      @IamRgvIndia  2023-01-01  0.378204  0.589663  0.032133\n",
       "4     @AbhipraGroup  2023-01-01  0.230898  0.711228  0.057874"
      ]
     },
     "execution_count": 7,
     "metadata": {},
     "output_type": "execute_result"
    }
   ],
   "source": [
    "df.head()"
   ]
  },
  {
   "cell_type": "code",
   "execution_count": 8,
   "metadata": {},
   "outputs": [],
   "source": [
    "df.index = df['Date']"
   ]
  },
  {
   "cell_type": "code",
   "execution_count": 9,
   "metadata": {},
   "outputs": [],
   "source": [
    "terms = ['Negative','Positive','Neutral']\n",
    "\n",
    "for term in terms:\n",
    "    df[term] = df[term].groupby('Date').mean()"
   ]
  },
  {
   "cell_type": "code",
   "execution_count": 10,
   "metadata": {},
   "outputs": [],
   "source": [
    "df = df.drop(columns=['user']).drop_duplicates(subset='Date')"
   ]
  },
  {
   "cell_type": "code",
   "execution_count": 11,
   "metadata": {},
   "outputs": [],
   "source": [
    "df.index = pd.to_datetime(df.index)"
   ]
  },
  {
   "cell_type": "code",
   "execution_count": 12,
   "metadata": {},
   "outputs": [
    {
     "name": "stderr",
     "output_type": "stream",
     "text": [
      "C:\\Users\\sai18\\AppData\\Local\\Temp\\ipykernel_17020\\3455363497.py:8: FutureWarning: DataFrame.fillna with 'method' is deprecated and will raise in a future version. Use obj.ffill() or obj.bfill() instead.\n",
      "  df = df.reindex(new_index).fillna(method='ffill')\n"
     ]
    }
   ],
   "source": [
    "df = df.sort_index()\n",
    "\n",
    "start_date = datetime(2023,1,1) \n",
    "final_date = datetime(2023,12,31)\n",
    "\n",
    "new_index = pd.date_range(start=start_date,end=final_date)\n",
    "\n",
    "df = df.reindex(new_index).fillna(method='ffill')"
   ]
  },
  {
   "cell_type": "code",
   "execution_count": 13,
   "metadata": {},
   "outputs": [],
   "source": [
    "df['Date'] = df.index\n"
   ]
  },
  {
   "cell_type": "code",
   "execution_count": 14,
   "metadata": {},
   "outputs": [],
   "source": [
    "df.to_csv('Labelled_True.csv')"
   ]
  }
 ],
 "metadata": {
  "kernelspec": {
   "display_name": "Python 3",
   "language": "python",
   "name": "python3"
  },
  "language_info": {
   "codemirror_mode": {
    "name": "ipython",
    "version": 3
   },
   "file_extension": ".py",
   "mimetype": "text/x-python",
   "name": "python",
   "nbconvert_exporter": "python",
   "pygments_lexer": "ipython3",
   "version": "3.11.5"
  }
 },
 "nbformat": 4,
 "nbformat_minor": 2
}
